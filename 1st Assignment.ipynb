{
 "cells": [
  {
   "cell_type": "markdown",
   "id": "f8422e75-01a6-414e-a8cc-d6b8e8c11a9a",
   "metadata": {},
   "source": [
    "\n",
    "1.\tWhat is Python, and why is it popular ?\n",
    "\n",
    "Ans: Python is a programming language. It is popular ss it has so many libraries and used by huge community.\n",
    "\n",
    "2.\tWhat is an interpreter in Python ?\n",
    "\n",
    "Ans: Interpreter is something that executes instructions line by line and stops immediately when it encounters an error.\n",
    "\n",
    "\n",
    "3.\tWhat are pre-defined keywords in Python ?\n",
    "\n",
    "Ans: Pre-defined keywords in python are reserved words that convey a special meaning to the interpreter.  Eg: int & if.\n",
    "\n",
    "\n",
    "4.\tCan keywords be used as variable names ?\n",
    "\n",
    "Ans: No\n",
    "\n",
    "\n",
    "5.\tWhat is mutability in Python ?\n",
    "\n",
    "Ans: Mutability is nothing but an ability to change something after its been created.\n",
    "\n",
    "6.\tWhy are lists mutable, but tuples are immutable ?\n",
    "\n",
    "Ans: Lists are modifiable hence they are mutable and tuples are not modifiable hence they are immutable.\n",
    "\n",
    "\n",
    "7.\tWhat is the difference between “==” and “is” operators in Python ?\n",
    "\n",
    "Ans: ”==” operator checks for similar value between two data types while “is” operator checks for the same object.\n",
    "\n",
    "\n",
    "8.\tWhat are logical operators in Python ?\n",
    "\n",
    "Ans: And, or, not\n",
    "\n",
    "   \n",
    "9.\tWhat is type casting in Python ?\n",
    "\n",
    "Ans: Cast typing is something that converts one data type into another.\n",
    "\n",
    "\n",
    "10.\tWhat is the difference between implicit and explicit type casting ?\n",
    "\n",
    "Ans: Implicit type casting is done by the interpreter automatically \n",
    "     Explicit type casting is where the user manually type casts one data type into another.\n",
    "\n",
    "   \n",
    "11.\t What is purpose of conditional statements in Python ?\n",
    "\n",
    "Ans: Conditional statements allow you to branch the code based on conditions.\n",
    "\n",
    "\n",
    "12.\tHow does the elif statement work ?\n",
    "\n",
    "Ans: elif stands for “elseif”, its followed by a condition which is triggered after the “if” statement fails.\n",
    "\n",
    "\n",
    "13.\t What is the difference between for and while loops ?\n",
    "\n",
    "Ans: while loops are used when you don’t have a fixed number to iterate whereas for loops are used when the no.of loops iterations are known.\n",
    "\n",
    "\n",
    "14.\tDescribe a scenario where a while loop is more suitable than a for loop ?\n",
    "\n",
    "Ans: When the loop iterations are not predetermined or when we want something indefinitely  \n",
    "\n"
   ]
  },
  {
   "cell_type": "code",
   "execution_count": 1,
   "id": "924f04ef-3109-4f6c-9819-08df62f31f79",
   "metadata": {},
   "outputs": [
    {
     "name": "stdout",
     "output_type": "stream",
     "text": [
      "Hello world\n"
     ]
    }
   ],
   "source": [
    "# 1. Write a Python program to print \"Hello, World!\n",
    "\n",
    "print(\"Hello world\")\n"
   ]
  },
  {
   "cell_type": "code",
   "execution_count": 2,
   "id": "54541819-5719-42f4-800b-58b0a2b21f7e",
   "metadata": {},
   "outputs": [
    {
     "name": "stdout",
     "output_type": "stream",
     "text": [
      "navya 23\n"
     ]
    }
   ],
   "source": [
    "# 2. Write a Python program that displays your name and age\n",
    "\n",
    "print(\"navya\", \"23\")"
   ]
  },
  {
   "cell_type": "code",
   "execution_count": 4,
   "id": "51a58c19-6049-4e77-83d1-cec5540ef919",
   "metadata": {},
   "outputs": [
    {
     "name": "stdout",
     "output_type": "stream",
     "text": [
      "['False', 'None', 'True', 'and', 'as', 'assert', 'async', 'await', 'break', 'class', 'continue', 'def', 'del', 'elif', 'else', 'except', 'finally', 'for', 'from', 'global', 'if', 'import', 'in', 'is', 'lambda', 'nonlocal', 'not', 'or', 'pass', 'raise', 'return', 'try', 'while', 'with', 'yield']\n"
     ]
    }
   ],
   "source": [
    "# 3. Write code to print all the pre-defined keywords in Python using the keyword library\n",
    "\n",
    "import keyword\n",
    "print(keyword.kwlist)\n"
   ]
  },
  {
   "cell_type": "code",
   "execution_count": 3,
   "id": "99b6206b-dcd0-4bb1-8e44-bcc5b20d451e",
   "metadata": {},
   "outputs": [
    {
     "name": "stdin",
     "output_type": "stream",
     "text": [
      " if\n"
     ]
    },
    {
     "name": "stdout",
     "output_type": "stream",
     "text": [
      "if is a keyword in python True\n"
     ]
    }
   ],
   "source": [
    "# 4. Write a program that checks if a given word is a Python keyword\n",
    "import keyword\n",
    "word = input()\n",
    "print(word, \"is a keyword in python\", keyword.iskeyword(word))"
   ]
  },
  {
   "cell_type": "code",
   "execution_count": 13,
   "id": "e11ff270-54c0-42e8-8a13-47dc8dab454d",
   "metadata": {},
   "outputs": [
    {
     "name": "stdout",
     "output_type": "stream",
     "text": [
      "names: ['navya', 'bhagya', 'teja']\n",
      "['divya', 'bhagya', 'teja']\n",
      "personalities: ('good', 'bad', 'worst')\n"
     ]
    },
    {
     "ename": "TypeError",
     "evalue": "'tuple' object does not support item assignment",
     "output_type": "error",
     "traceback": [
      "\u001b[1;31m---------------------------------------------------------------------------\u001b[0m",
      "\u001b[1;31mTypeError\u001b[0m                                 Traceback (most recent call last)",
      "Cell \u001b[1;32mIn[13], line 9\u001b[0m\n\u001b[0;32m      7\u001b[0m personalities \u001b[38;5;241m=\u001b[39m (\u001b[38;5;124m\"\u001b[39m\u001b[38;5;124mgood\u001b[39m\u001b[38;5;124m\"\u001b[39m, \u001b[38;5;124m\"\u001b[39m\u001b[38;5;124mbad\u001b[39m\u001b[38;5;124m\"\u001b[39m, \u001b[38;5;124m\"\u001b[39m\u001b[38;5;124mworst\u001b[39m\u001b[38;5;124m\"\u001b[39m)\n\u001b[0;32m      8\u001b[0m \u001b[38;5;28mprint\u001b[39m(\u001b[38;5;124m\"\u001b[39m\u001b[38;5;124mpersonalities:\u001b[39m\u001b[38;5;124m\"\u001b[39m, personalities)\n\u001b[1;32m----> 9\u001b[0m personalities[\u001b[38;5;241m1\u001b[39m] \u001b[38;5;241m=\u001b[39m \u001b[38;5;124m\"\u001b[39m\u001b[38;5;124minnocent\u001b[39m\u001b[38;5;124m\"\u001b[39m\n\u001b[0;32m     10\u001b[0m \u001b[38;5;28mprint\u001b[39m(personalities)\n",
      "\u001b[1;31mTypeError\u001b[0m: 'tuple' object does not support item assignment"
     ]
    }
   ],
   "source": [
    "# 5. Create a list and tuple in Python, and demonstrate how attempting to change an element works differently for each\n",
    "\n",
    "names = [\"navya\", \"bhagya\", \"teja\"]\n",
    "print(\"names:\", names)\n",
    "names[0] = \"divya\"\n",
    "print(names)\n",
    "personalities = (\"good\", \"bad\", \"worst\")\n",
    "print(\"personalities:\", personalities)\n",
    "personalities[1] = \"innocent\"\n",
    "print(personalities)"
   ]
  },
  {
   "cell_type": "code",
   "execution_count": 5,
   "id": "1a7b8398-07a3-430f-8fe1-755a1a7f101d",
   "metadata": {},
   "outputs": [
    {
     "name": "stdout",
     "output_type": "stream",
     "text": [
      "['navya', 'divya', 'teja']\n",
      "20\n",
      "['jaggu', 'divya', 'teja']\n",
      "20\n"
     ]
    }
   ],
   "source": [
    "# 6. Write a function to demonstrate the behavior of mutable and immutable arguments ?\n",
    "\n",
    "def demonstrate(a, b):\n",
    "    a[0] = \"jaggu\"\n",
    "    b = 10\n",
    "\n",
    "a = [\"navya\", \"divya\", \"teja\"]\n",
    "b = 20\n",
    "print(a)\n",
    "print(b)\n",
    "demonstrate(a, b)\n",
    "print(a)\n",
    "print(b)\n",
    "    \n",
    "\n"
   ]
  },
  {
   "cell_type": "code",
   "execution_count": 6,
   "id": "82c8027c-0cc4-4bb2-9356-a804d0b141f3",
   "metadata": {},
   "outputs": [
    {
     "name": "stdout",
     "output_type": "stream",
     "text": [
      "['navya', 'divya', 'teja']\n",
      "20\n",
      "['jaggu', 'divya', 'teja']\n",
      "20\n"
     ]
    }
   ],
   "source": [
    "# 7. Write a function to demonstrate the behavior of mutable and immutable arguments ?\n",
    "\n",
    "def demonstrate(a, b):\n",
    "    a[0] = \"jaggu\"\n",
    "    b = 10\n",
    "\n",
    "a = [\"navya\", \"divya\", \"teja\"]\n",
    "b = 20\n",
    "print(a)\n",
    "print(b)\n",
    "demonstrate(a, b)\n",
    "print(a)\n",
    "print(b)"
   ]
  },
  {
   "cell_type": "code",
   "execution_count": 9,
   "id": "01316c1d-0555-466a-b3c2-17792916f27a",
   "metadata": {},
   "outputs": [
    {
     "name": "stdout",
     "output_type": "stream",
     "text": [
      "cafe\n"
     ]
    }
   ],
   "source": [
    "# 8. Write a program to demonstrate the use of logical operators ?\n",
    "\n",
    "jaggu = True\n",
    "vaishu = False\n",
    "\n",
    "if (jaggu and vaishu):\n",
    "    print(\"temple\")\n",
    "elif (jaggu or (not vaishu)):\n",
    "    print(\"cafe\")\n",
    "else:\n",
    "    print(\"stay at home\")"
   ]
  },
  {
   "cell_type": "code",
   "execution_count": 12,
   "id": "692ce111-827b-4aae-b711-7eb6c5e4f586",
   "metadata": {},
   "outputs": [
    {
     "name": "stdin",
     "output_type": "stream",
     "text": [
      " 1\n"
     ]
    },
    {
     "name": "stdout",
     "output_type": "stream",
     "text": [
      "1 1.0 True\n"
     ]
    }
   ],
   "source": [
    "# 9. Write a Python program to convert user input from string to integer, float, and boolean types ?\n",
    "\n",
    "x = input()\n",
    "a = int(x)\n",
    "b = float(x)\n",
    "c = bool(x)\n",
    "print(a, b, c)"
   ]
  },
  {
   "cell_type": "code",
   "execution_count": 13,
   "id": "4b005481-a5bd-4d40-9323-16cee18ccf47",
   "metadata": {},
   "outputs": [
    {
     "name": "stdout",
     "output_type": "stream",
     "text": [
      "[1, 10, 3]\n"
     ]
    }
   ],
   "source": [
    "# 10. Write code to demonstrate type casting with list elements ?\n",
    "\n",
    "a = [\"1\", \"10\", \"3\"]\n",
    "for i in range(0, 3):\n",
    "    a[i] = int(a[i])\n",
    "\n",
    "print(a)\n"
   ]
  },
  {
   "cell_type": "code",
   "execution_count": 15,
   "id": "3617dfdc-39f1-4598-b051-a97cfe9b8e48",
   "metadata": {},
   "outputs": [
    {
     "name": "stdin",
     "output_type": "stream",
     "text": [
      " 3\n"
     ]
    },
    {
     "name": "stdout",
     "output_type": "stream",
     "text": [
      "number is positive\n"
     ]
    }
   ],
   "source": [
    "# 11. Write a program that checks if a number is positive, negative, or zero ?\n",
    "\n",
    "x = input()\n",
    "x = int(x)\n",
    "if (x > 0):\n",
    "    print(\"number is positive\")\n",
    "elif (x < 0):\n",
    "    print(\"number is negative\")\n",
    "else:\n",
    "    print(\"number is 0\")"
   ]
  },
  {
   "cell_type": "code",
   "execution_count": 16,
   "id": "5b5d2df2-af3d-49ac-8af5-48b012887c67",
   "metadata": {},
   "outputs": [
    {
     "name": "stdout",
     "output_type": "stream",
     "text": [
      "1\n",
      "2\n",
      "3\n",
      "4\n",
      "5\n",
      "6\n",
      "7\n",
      "8\n",
      "9\n",
      "10\n"
     ]
    }
   ],
   "source": [
    "# 12. Write a for loop to print numbers from 1 to 10 ?\n",
    "\n",
    "for i in range(1, 11):\n",
    "    print(i)"
   ]
  },
  {
   "cell_type": "code",
   "execution_count": 17,
   "id": "731f99d8-d6db-4d77-803d-e94587fcd2e5",
   "metadata": {},
   "outputs": [
    {
     "name": "stdout",
     "output_type": "stream",
     "text": [
      "650\n"
     ]
    }
   ],
   "source": [
    "# 13. Write a Python program to find the sum of all even numbers between 1 and 50 ?\n",
    "\n",
    "s = 0 \n",
    "for i in range(1, 51):\n",
    "    if (i % 2 == 0):\n",
    "        s = s + i\n",
    "\n",
    "print(s)"
   ]
  },
  {
   "cell_type": "code",
   "execution_count": 18,
   "id": "88281445-da3a-4370-bf18-f5fcbdf8279e",
   "metadata": {},
   "outputs": [
    {
     "name": "stdin",
     "output_type": "stream",
     "text": [
      " Navya\n"
     ]
    },
    {
     "name": "stdout",
     "output_type": "stream",
     "text": [
      "ayvaN\n"
     ]
    }
   ],
   "source": [
    "# 14. Write a program to reverse a string using a while loop ?\n",
    "\n",
    "s1 = input()\n",
    "s2 = \"\"\n",
    "l = len(s1)\n",
    "p = 0\n",
    "while (p < l):\n",
    "    s2 = s1[p] + s2\n",
    "    p = p + 1\n",
    "\n",
    "print(s2)\n",
    "\n"
   ]
  },
  {
   "cell_type": "code",
   "execution_count": 20,
   "id": "045be24d-7c04-4cb3-9152-628e5552779b",
   "metadata": {},
   "outputs": [
    {
     "name": "stdin",
     "output_type": "stream",
     "text": [
      " 7\n"
     ]
    },
    {
     "name": "stdout",
     "output_type": "stream",
     "text": [
      "5040\n"
     ]
    }
   ],
   "source": [
    "# 15. Write a Python program to calculate the factorial of a number provided by the user using a while loop ?\n",
    "\n",
    "x = input()\n",
    "x = int(x)\n",
    "y = 1\n",
    "for i in range(1, x + 1):\n",
    "    y = y * i\n",
    "\n",
    "print(y)"
   ]
  }
 ],
 "metadata": {
  "kernelspec": {
   "display_name": "Python 3 (ipykernel)",
   "language": "python",
   "name": "python3"
  },
  "language_info": {
   "codemirror_mode": {
    "name": "ipython",
    "version": 3
   },
   "file_extension": ".py",
   "mimetype": "text/x-python",
   "name": "python",
   "nbconvert_exporter": "python",
   "pygments_lexer": "ipython3",
   "version": "3.12.7"
  }
 },
 "nbformat": 4,
 "nbformat_minor": 5
}
